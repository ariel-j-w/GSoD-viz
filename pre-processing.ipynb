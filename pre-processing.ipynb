{
 "cells": [
  {
   "cell_type": "markdown",
   "metadata": {},
   "source": [
    "# Pre-Processing\n",
    "\n",
    "In this notebook, we load in the complete dataset ([2020 Global State of Democracy Index](https://www.idea.int/gsod-indices/dataset-resources), which has data from 1975-2019) and split it out into train, test, and query sets for both the data as a whole and the most current year for the purposes of machine learning training."
   ]
  },
  {
   "cell_type": "code",
   "execution_count": 1,
   "metadata": {},
   "outputs": [],
   "source": [
    "import pandas as pd"
   ]
  },
  {
   "cell_type": "code",
   "execution_count": 2,
   "metadata": {},
   "outputs": [],
   "source": [
    "data = pd.read_csv('data/gsodi_pv_4.csv', dtype={\n",
    "    'ID': int, 'ID_country_name': 'category', 'ID_country_code': int, 'ID_year': int, \n",
    "    'ID_country_year': int, 'ID_region': 'category', 'ID_subregion': 'category',\n",
    "})"
   ]
  },
  {
   "cell_type": "code",
   "execution_count": 3,
   "metadata": {},
   "outputs": [],
   "source": [
    "# data.head()\n",
    "# data.describe()"
   ]
  },
  {
   "cell_type": "markdown",
   "metadata": {},
   "source": [
    "## Current Year\n",
    "\n",
    "Here we will split out the most current year of data (2019) into separate files and training sets. We go ahead and load the complete set of 2019 data into"
   ]
  },
  {
   "cell_type": "code",
   "execution_count": 4,
   "metadata": {},
   "outputs": [],
   "source": [
    "data_2019 = data[data['ID_year'] == 2019]\n",
    "data_2019.to_csv('data/complete-2019.csv')"
   ]
  },
  {
   "cell_type": "markdown",
   "metadata": {},
   "source": [
    "Though we are typically wanting to do analysis at the country level, several rows in our dataset aggregate the information up to a World, region, or sub-region level. Here we drop all of the regions and save a set of the data which only includes the countries."
   ]
  },
  {
   "cell_type": "code",
   "execution_count": 5,
   "metadata": {},
   "outputs": [],
   "source": [
    "drop_regions = ['African Union', 'ASEAN', 'European Union', 'OECD', 'OAS', 'East Africa', 'Central Africa', \n",
    "                'Southern Africa', 'West Africa', 'North Africa', 'Caribbean', 'Central America', 'South America', \n",
    "                'North America', 'Central Asia', 'East Asia','South Asia', 'South-East Asia', 'Oceania', \n",
    "                'Middle East', 'East-Central Europe', 'Eastern Europe', 'North/Western Europe', 'Southern Europe', \n",
    "                'Africa', 'Latin America/Caribbean','North America', 'Asia/Pacific', 'Middle East', 'Europe', 'World']\n",
    "countries_2019 = data_2019[-data_2019['ID_country_name'].isin(drop_regions)]\n",
    "countries_2019.to_csv('data/countries-2019.csv')\n",
    "# countries_2019"
   ]
  },
  {
   "cell_type": "markdown",
   "metadata": {},
   "source": [
    "Next, we go ahead and split out into test, query, and training datasets. We want to have a 60-20-20 split for train-query-test sets, and additionally an 80-20 train-test split for any models we create without requiring a query set. To do this, we first create `test_2019` with our 20% test set, and the complementary `train80_2019` which has the other 80% of the data for training in an 80-20 split. The `random_state` seed may be dropped from the `sample` call for an added layer of randomness, but for the sake of reproducibility we keep the seed here."
   ]
  },
  {
   "cell_type": "code",
   "execution_count": 6,
   "metadata": {},
   "outputs": [],
   "source": [
    "test_2019 = countries_2019.sample(frac=0.2, random_state=0)\n",
    "train80_2019 = countries_2019.drop(test_2019.index)"
   ]
  },
  {
   "cell_type": "markdown",
   "metadata": {},
   "source": [
    "To create the rest of what we need for a 60-20-20 split, we split `train80_2019` into `train_2019` and `query_2019` which will be 60% and 20% of the complete 2019 countries dataset, respectively."
   ]
  },
  {
   "cell_type": "code",
   "execution_count": 7,
   "metadata": {},
   "outputs": [],
   "source": [
    "train_2019 = train80_2019.sample(frac=0.75, random_state=0)\n",
    "query_2019 = train80_2019.drop(train_2019.index)"
   ]
  },
  {
   "cell_type": "markdown",
   "metadata": {},
   "source": [
    "Finally, we can save these datasets into csv format for future use."
   ]
  },
  {
   "cell_type": "code",
   "execution_count": 8,
   "metadata": {},
   "outputs": [],
   "source": [
    "train_2019.to_csv('data/train-2019.csv')\n",
    "query_2019.to_csv('data/query-2019.csv')\n",
    "train80_2019.to_csv('data/train80-2019.csv')\n",
    "test_2019.to_csv('data/test-2019.csv')"
   ]
  },
  {
   "cell_type": "markdown",
   "metadata": {},
   "source": [
    "## Countries Over Time\n",
    "\n",
    "We now repeat a similar process as above, but without reducing the dataset to a single year. We drop the rows that describe regions from our dataset, and create our 80-20 and 60-20-20 splits as above."
   ]
  },
  {
   "cell_type": "code",
   "execution_count": 9,
   "metadata": {},
   "outputs": [],
   "source": [
    "complete_countries = data[-data['ID_country_name'].isin(drop_regions)]\n",
    "test_countries = complete_countries.sample(frac=0.2, random_state=0)\n",
    "train80_countries = complete_countries.drop(test_countries.index)"
   ]
  },
  {
   "cell_type": "code",
   "execution_count": 10,
   "metadata": {},
   "outputs": [],
   "source": [
    "train_countries = train80_countries.sample(frac=0.75, random_state=0)\n",
    "query_countries = train80_countries.drop(train_countries.index)"
   ]
  },
  {
   "cell_type": "code",
   "execution_count": 11,
   "metadata": {},
   "outputs": [],
   "source": [
    "complete_countries.to_csv('data/complete-countries.csv')\n",
    "train_countries.to_csv('data/train-countries.csv')\n",
    "query_countries.to_csv('data/query-countries.csv')\n",
    "train80_countries.to_csv('data/train80-countries.csv')\n",
    "test_countries.to_csv('data/test-countries.csv')"
   ]
  }
 ],
 "metadata": {
  "kernelspec": {
   "display_name": "Python 3",
   "language": "python",
   "name": "python3"
  },
  "language_info": {
   "codemirror_mode": {
    "name": "ipython",
    "version": 3
   },
   "file_extension": ".py",
   "mimetype": "text/x-python",
   "name": "python",
   "nbconvert_exporter": "python",
   "pygments_lexer": "ipython3",
   "version": "3.7.3"
  }
 },
 "nbformat": 4,
 "nbformat_minor": 4
}
